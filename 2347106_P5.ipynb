{
 "cells": [
  {
   "cell_type": "code",
   "execution_count": 4,
   "metadata": {},
   "outputs": [
    {
     "name": "stdout",
     "output_type": "stream",
     "text": [
      "dob must be earlier than today\n",
      "Your age is: 22 years\n",
      "Bye! Hope you run this program again.\n"
     ]
    }
   ],
   "source": [
    "import datetime\n",
    "class QuitException(Exception):\n",
    "    pass\n",
    "class highdate(Exception):\n",
    "    pass\n",
    "def calculate_age(dob):\n",
    "    today = datetime.date.today()\n",
    "    age = today.year - dob.year \n",
    "    return age\n",
    "while True:\n",
    "        try:\n",
    "            user_input = input(\"Enter DOB (dd/mm/yyyy), '?' for help, 'q' to quit: \").strip()\n",
    "            if user_input == 'q' or user_input == 'Q':\n",
    "                raise QuitException\n",
    "            if user_input == '?':\n",
    "                print(\"Enter your Date of Birth in the format dd/mm/yyyy.\")\n",
    "                continue\n",
    "            if not user_input:\n",
    "                print(\"Please enter a valid input.\")\n",
    "                continue\n",
    "            \n",
    "            dob = datetime.datetime.strptime(user_input, \"%d/%m/%Y\").date()\n",
    "            \n",
    "            age = calculate_age(dob)\n",
    "            if (age <= -1):\n",
    "                raise highdate\n",
    "            else:\n",
    "                print(f\"Your age is: {age} years\")\n",
    "        except ValueError:\n",
    "            print(\"Invalid date format. Please use dd/mm/yyyy.\")\n",
    "        except highdate:\n",
    "            print(\"dob must be earlier than today\")    \n",
    "        except QuitException as qe:\n",
    "            print(\"Bye! Hope you run this program again.\")\n",
    "            break\n",
    "        except Exception as e:\n",
    "            print(f\"An error occurred: {e}\")    \n"
   ]
  }
 ],
 "metadata": {
  "kernelspec": {
   "display_name": "Python 3",
   "language": "python",
   "name": "python3"
  },
  "language_info": {
   "codemirror_mode": {
    "name": "ipython",
    "version": 3
   },
   "file_extension": ".py",
   "mimetype": "text/x-python",
   "name": "python",
   "nbconvert_exporter": "python",
   "pygments_lexer": "ipython3",
   "version": "3.11.3"
  },
  "orig_nbformat": 4
 },
 "nbformat": 4,
 "nbformat_minor": 2
}
